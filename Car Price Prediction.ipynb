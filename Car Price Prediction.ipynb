{
 "cells": [
  {
   "cell_type": "code",
   "execution_count": 121,
   "id": "490c83c0",
   "metadata": {},
   "outputs": [],
   "source": [
    "import numpy as np\n",
    "import pandas as pd\n",
    "import seaborn as sns\n",
    "import pickle\n",
    "import matplotlib.pyplot as plt\n",
    "from sklearn.preprocessing import LabelEncoder\n",
    "from sklearn.model_selection import train_test_split\n",
    "from sklearn.metrics import accuracy_score\n",
    "from sklearn.linear_model import LinearRegression\n",
    "from sklearn.ensemble import RandomForestRegressor\n",
    "from sklearn.decomposition import PCA\n",
    "\n",
    "%matplotlib inline"
   ]
  },
  {
   "cell_type": "code",
   "execution_count": 80,
   "id": "797a93d5",
   "metadata": {},
   "outputs": [],
   "source": [
    "df = pd.read_csv(\"car details v4.csv\")"
   ]
  },
  {
   "cell_type": "code",
   "execution_count": 82,
   "id": "ffe7ada6",
   "metadata": {},
   "outputs": [
    {
     "data": {
      "text/plain": [
       "(2059, 20)"
      ]
     },
     "execution_count": 82,
     "metadata": {},
     "output_type": "execute_result"
    }
   ],
   "source": [
    "df.shape"
   ]
  },
  {
   "cell_type": "code",
   "execution_count": 83,
   "id": "0ff86b5e",
   "metadata": {},
   "outputs": [],
   "source": [
    "df = df.dropna(how=\"any\")"
   ]
  },
  {
   "cell_type": "code",
   "execution_count": 84,
   "id": "6faa1e1b",
   "metadata": {},
   "outputs": [
    {
     "data": {
      "text/plain": [
       "(1874, 20)"
      ]
     },
     "execution_count": 84,
     "metadata": {},
     "output_type": "execute_result"
    }
   ],
   "source": [
    "df.shape"
   ]
  },
  {
   "cell_type": "code",
   "execution_count": 85,
   "id": "2ed62685",
   "metadata": {},
   "outputs": [
    {
     "data": {
      "text/plain": [
       "Make                  0\n",
       "Model                 0\n",
       "Price                 0\n",
       "Year                  0\n",
       "Kilometer             0\n",
       "Fuel Type             0\n",
       "Transmission          0\n",
       "Location              0\n",
       "Color                 0\n",
       "Owner                 0\n",
       "Seller Type           0\n",
       "Engine                0\n",
       "Max Power             0\n",
       "Max Torque            0\n",
       "Drivetrain            0\n",
       "Length                0\n",
       "Width                 0\n",
       "Height                0\n",
       "Seating Capacity      0\n",
       "Fuel Tank Capacity    0\n",
       "dtype: int64"
      ]
     },
     "execution_count": 85,
     "metadata": {},
     "output_type": "execute_result"
    }
   ],
   "source": [
    "df.isnull().sum()"
   ]
  },
  {
   "cell_type": "code",
   "execution_count": 86,
   "id": "015c2f21",
   "metadata": {},
   "outputs": [],
   "source": [
    "def replace_RPM(text):\n",
    "    text = text.split(\"@\")\n",
    "    text = text[1]\n",
    "    text = text.replace(\"rpm\", \"\")\n",
    "    text = int(text)\n",
    "    return text"
   ]
  },
  {
   "cell_type": "code",
   "execution_count": 87,
   "id": "afefe208",
   "metadata": {},
   "outputs": [],
   "source": [
    "df[\"Max Torque\"] = df[\"Max Torque\"].apply(replace_RPM)"
   ]
  },
  {
   "cell_type": "code",
   "execution_count": 89,
   "id": "98f6eba0",
   "metadata": {},
   "outputs": [
    {
     "data": {
      "text/plain": [
       "1197 cc    230\n",
       "1248 cc    116\n",
       "998 cc     108\n",
       "1497 cc     83\n",
       "1968 cc     82\n",
       "          ... \n",
       "3436 cc      1\n",
       "4806 cc      1\n",
       "2979 cc      1\n",
       "3496 cc      1\n",
       "995 cc       1\n",
       "Name: Engine, Length: 104, dtype: int64"
      ]
     },
     "execution_count": 89,
     "metadata": {},
     "output_type": "execute_result"
    }
   ],
   "source": [
    "df[\"Engine\"].value_counts()"
   ]
  },
  {
   "cell_type": "code",
   "execution_count": 90,
   "id": "5c13c940",
   "metadata": {},
   "outputs": [],
   "source": [
    "def replace_cc(text):\n",
    "    text = text.replace(\"cc\", \"\")\n",
    "    text = int(text)\n",
    "    return text"
   ]
  },
  {
   "cell_type": "code",
   "execution_count": 91,
   "id": "5b5d5c24",
   "metadata": {},
   "outputs": [],
   "source": [
    "df[\"Engine\"] = df[\"Engine\"].apply(replace_cc)"
   ]
  },
  {
   "cell_type": "code",
   "execution_count": 92,
   "id": "d25d1afc",
   "metadata": {},
   "outputs": [],
   "source": [
    "def replace_power(text):\n",
    "    text = text.split(\"@\")\n",
    "    text = text[0]\n",
    "    text = text.replace(\"bhp\", \"\")\n",
    "    text = float(text)\n",
    "    return text"
   ]
  },
  {
   "cell_type": "code",
   "execution_count": 93,
   "id": "f6516289",
   "metadata": {},
   "outputs": [],
   "source": [
    "df[\"Max Power\"] = df[\"Max Power\"].apply(replace_power)"
   ]
  },
  {
   "cell_type": "code",
   "execution_count": 95,
   "id": "14d81624",
   "metadata": {},
   "outputs": [],
   "source": [
    "le_fueltype = LabelEncoder().fit(df[\"Fuel Type\"])\n",
    "le_nm_fueltype = dict(zip(le_fueltype.classes_, le_fueltype.transform(le_fueltype.classes_)))\n",
    "df[\"Fuel Type\"] = df[\"Fuel Type\"].apply(lambda x: le_nm_fueltype[x])"
   ]
  },
  {
   "cell_type": "code",
   "execution_count": 96,
   "id": "f093908f",
   "metadata": {},
   "outputs": [
    {
     "data": {
      "text/plain": [
       "{'CNG': 0,\n",
       " 'CNG + CNG': 1,\n",
       " 'Diesel': 2,\n",
       " 'Hybrid': 3,\n",
       " 'LPG': 4,\n",
       " 'Petrol': 5,\n",
       " 'Petrol + CNG': 6}"
      ]
     },
     "execution_count": 96,
     "metadata": {},
     "output_type": "execute_result"
    }
   ],
   "source": [
    "le_nm_fueltype"
   ]
  },
  {
   "cell_type": "code",
   "execution_count": 98,
   "id": "a331e585",
   "metadata": {},
   "outputs": [],
   "source": [
    "df = df.drop([\"Make\", \"Model\"], axis=1)"
   ]
  },
  {
   "cell_type": "code",
   "execution_count": 100,
   "id": "e706bb4e",
   "metadata": {},
   "outputs": [],
   "source": [
    "le_owner = LabelEncoder().fit(df[\"Owner\"])\n",
    "le_nm_owner = dict(zip(le_owner.classes_, le_owner.transform(le_owner.classes_)))\n",
    "df[\"Owner\"] = df[\"Owner\"].apply(lambda x: le_nm_owner[x])"
   ]
  },
  {
   "cell_type": "code",
   "execution_count": 101,
   "id": "e932ea33",
   "metadata": {},
   "outputs": [
    {
     "data": {
      "text/plain": [
       "{'First': 0, 'Second': 1, 'Third': 2, 'UnRegistered Car': 3}"
      ]
     },
     "execution_count": 101,
     "metadata": {},
     "output_type": "execute_result"
    }
   ],
   "source": [
    "le_nm_owner"
   ]
  },
  {
   "cell_type": "code",
   "execution_count": 103,
   "id": "58bf27bf",
   "metadata": {},
   "outputs": [],
   "source": [
    "le_transmission = LabelEncoder().fit(df[\"Transmission\"])\n",
    "le_nm_transmission = dict(zip(le_transmission.classes_, le_transmission.transform(le_transmission.classes_)))\n",
    "df[\"Transmission\"] = df[\"Transmission\"].apply(lambda x: le_nm_transmission[x])"
   ]
  },
  {
   "cell_type": "code",
   "execution_count": 104,
   "id": "b1cf98eb",
   "metadata": {},
   "outputs": [
    {
     "data": {
      "text/plain": [
       "{'Automatic': 0, 'Manual': 1}"
      ]
     },
     "execution_count": 104,
     "metadata": {},
     "output_type": "execute_result"
    }
   ],
   "source": [
    "le_nm_transmission"
   ]
  },
  {
   "cell_type": "code",
   "execution_count": 106,
   "id": "e3cd54b2",
   "metadata": {},
   "outputs": [],
   "source": [
    "df = df.drop([\"Location\", \"Color\"], axis=1)"
   ]
  },
  {
   "cell_type": "code",
   "execution_count": 108,
   "id": "a3c99490",
   "metadata": {},
   "outputs": [],
   "source": [
    "le_sellertype = LabelEncoder().fit(df[\"Seller Type\"])\n",
    "le_nm_sellertype = dict(zip(le_sellertype.classes_, le_sellertype.transform(le_sellertype.classes_)))\n",
    "df[\"Seller Type\"] = df[\"Seller Type\"].apply(lambda x: le_nm_sellertype[x])"
   ]
  },
  {
   "cell_type": "code",
   "execution_count": 109,
   "id": "55902f22",
   "metadata": {},
   "outputs": [
    {
     "data": {
      "text/plain": [
       "{'Commercial Registration': 0, 'Corporate': 1, 'Individual': 2}"
      ]
     },
     "execution_count": 109,
     "metadata": {},
     "output_type": "execute_result"
    }
   ],
   "source": [
    "le_nm_sellertype"
   ]
  },
  {
   "cell_type": "code",
   "execution_count": 110,
   "id": "193224b1",
   "metadata": {},
   "outputs": [],
   "source": [
    "le_drivetrain = LabelEncoder().fit(df[\"Drivetrain\"])\n",
    "le_nm_drivetrain = dict(zip(le_drivetrain.classes_, le_drivetrain.transform(le_drivetrain.classes_)))\n",
    "df[\"Drivetrain\"] = df[\"Drivetrain\"].apply(lambda x: le_nm_drivetrain[x])"
   ]
  },
  {
   "cell_type": "code",
   "execution_count": 111,
   "id": "80b1aeea",
   "metadata": {},
   "outputs": [
    {
     "data": {
      "text/plain": [
       "{'AWD': 0, 'FWD': 1, 'RWD': 2}"
      ]
     },
     "execution_count": 111,
     "metadata": {},
     "output_type": "execute_result"
    }
   ],
   "source": [
    "le_nm_drivetrain"
   ]
  },
  {
   "cell_type": "code",
   "execution_count": 113,
   "id": "da242af5",
   "metadata": {},
   "outputs": [],
   "source": [
    "X = df.drop([\"Price\"], axis=1)\n",
    "y = df[\"Price\"]"
   ]
  },
  {
   "cell_type": "code",
   "execution_count": 114,
   "id": "bbfac1f8",
   "metadata": {},
   "outputs": [],
   "source": [
    "X_train, X_test, y_train, y_test = train_test_split(X, y, test_size=0.2, random_state=4242)"
   ]
  },
  {
   "cell_type": "code",
   "execution_count": 115,
   "id": "7bdb82e8",
   "metadata": {},
   "outputs": [
    {
     "data": {
      "text/plain": [
       "((1499, 15), (375,))"
      ]
     },
     "execution_count": 115,
     "metadata": {},
     "output_type": "execute_result"
    }
   ],
   "source": [
    "X_train.shape, y_test.shape"
   ]
  },
  {
   "cell_type": "code",
   "execution_count": 116,
   "id": "9c460749",
   "metadata": {},
   "outputs": [
    {
     "data": {
      "text/plain": [
       "dtype('int64')"
      ]
     },
     "execution_count": 116,
     "metadata": {},
     "output_type": "execute_result"
    }
   ],
   "source": [
    "y.dtypes"
   ]
  },
  {
   "cell_type": "code",
   "execution_count": 117,
   "id": "65d23124",
   "metadata": {},
   "outputs": [
    {
     "name": "stdout",
     "output_type": "stream",
     "text": [
      "Random Forest:  0.9799212345517739\n",
      "Random Forest:  0.866285227998213\n"
     ]
    }
   ],
   "source": [
    "rf_model = RandomForestRegressor()\n",
    "rf_model.fit(X_train, y_train)\n",
    "y_pred = rf_model.predict(X_test)\n",
    "print(\"Random Forest: \", rf_model.score(X_train, y_train))\n",
    "print(\"Random Forest: \", rf_model.score(X_test, y_test))"
   ]
  },
  {
   "cell_type": "code",
   "execution_count": 118,
   "id": "ade1fa0b",
   "metadata": {},
   "outputs": [
    {
     "name": "stdout",
     "output_type": "stream",
     "text": [
      "Linear Regression:  0.680071078006509\n",
      "Linear Regression:  0.6594717455267607\n"
     ]
    }
   ],
   "source": [
    "linreg = LinearRegression()\n",
    "linreg.fit(X_train, y_train)\n",
    "y_pred = linreg.predict(X_test)\n",
    "print(\"Linear Regression: \", linreg.score(X_train, y_train))\n",
    "print(\"Linear Regression: \", linreg.score(X_test, y_test))"
   ]
  },
  {
   "cell_type": "code",
   "execution_count": 122,
   "id": "943ffce1",
   "metadata": {},
   "outputs": [],
   "source": [
    "pickle.dump(rf_model, open(\"RFcar.pkl\", \"wb\"))"
   ]
  },
  {
   "cell_type": "code",
   "execution_count": null,
   "id": "4b567ac3",
   "metadata": {},
   "outputs": [],
   "source": []
  }
 ],
 "metadata": {
  "kernelspec": {
   "display_name": "Python 3 (ipykernel)",
   "language": "python",
   "name": "python3"
  },
  "language_info": {
   "codemirror_mode": {
    "name": "ipython",
    "version": 3
   },
   "file_extension": ".py",
   "mimetype": "text/x-python",
   "name": "python",
   "nbconvert_exporter": "python",
   "pygments_lexer": "ipython3",
   "version": "3.8.16"
  }
 },
 "nbformat": 4,
 "nbformat_minor": 5
}
